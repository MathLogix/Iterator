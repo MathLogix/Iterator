{
 "cells": [
  {
   "cell_type": "code",
   "execution_count": 2,
   "id": "75fa0581",
   "metadata": {
    "scrolled": false
   },
   "outputs": [
    {
     "name": "stdout",
     "output_type": "stream",
     "text": [
      "Number of all permutations: 24\n",
      "a1 b1 c1\n",
      "a1 b1 c2\n",
      "a1 b1 c3\n",
      "a1 b2 c1\n",
      "a1 b2 c2\n",
      "a1 b2 c3\n",
      "a1 b3 c1\n",
      "a1 b3 c2\n",
      "a1 b3 c3\n",
      "a1 b4 c1\n",
      "a1 b4 c2\n",
      "a1 b4 c3\n",
      "a2 b1 c1\n",
      "a2 b1 c2\n",
      "a2 b1 c3\n",
      "a2 b2 c1\n",
      "a2 b2 c2\n",
      "a2 b2 c3\n",
      "a2 b3 c1\n",
      "a2 b3 c2\n",
      "a2 b3 c3\n",
      "a2 b4 c1\n",
      "a2 b4 c2\n",
      "a2 b4 c3\n"
     ]
    }
   ],
   "source": [
    "from itertools import product\n",
    "\n",
    "factors = {\n",
    "    \"C1\": [\"a1\", \"a2\"],\n",
    "    \"C2\": [\"b1\", \"b2\", \"b3\", \"b4\"],\n",
    "    \"C3\": [\"c1\", \"c2\", \"c3\"],\n",
    "}\n",
    "\n",
    "all_combinations = list(product(*[factors[key] for key in factors]))\n",
    "total_combinations = len(all_combinations)\n",
    "\n",
    "print(\"Number of all permutations:\", total_combinations)\n",
    "\n",
    "for combination in all_combinations:\n",
    "    print(\" \".join(combination))\n"
   ]
  }
 ],
 "metadata": {
  "kernelspec": {
   "display_name": "Python 3 (ipykernel)",
   "language": "python",
   "name": "python3"
  },
  "language_info": {
   "codemirror_mode": {
    "name": "ipython",
    "version": 3
   },
   "file_extension": ".py",
   "mimetype": "text/x-python",
   "name": "python",
   "nbconvert_exporter": "python",
   "pygments_lexer": "ipython3",
   "version": "3.9.18"
  }
 },
 "nbformat": 4,
 "nbformat_minor": 5
}
